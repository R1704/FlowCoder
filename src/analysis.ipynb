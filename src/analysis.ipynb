{
 "cells": [
  {
   "cell_type": "code",
   "execution_count": 4,
   "metadata": {
    "collapsed": true
   },
   "outputs": [
    {
     "data": {
      "text/html": [
       "<div>\n",
       "<style scoped>\n",
       "    .dataframe tbody tr th:only-of-type {\n",
       "        vertical-align: middle;\n",
       "    }\n",
       "\n",
       "    .dataframe tbody tr th {\n",
       "        vertical-align: top;\n",
       "    }\n",
       "\n",
       "    .dataframe thead th {\n",
       "        text-align: right;\n",
       "    }\n",
       "</style>\n",
       "<table border=\"1\" class=\"dataframe\">\n",
       "  <thead>\n",
       "    <tr style=\"text-align: right;\">\n",
       "      <th></th>\n",
       "      <th>Depth</th>\n",
       "      <th>Epoch</th>\n",
       "      <th>Steps</th>\n",
       "      <th>Task Name</th>\n",
       "      <th>Program</th>\n",
       "      <th>Examples</th>\n",
       "    </tr>\n",
       "  </thead>\n",
       "  <tbody>\n",
       "    <tr>\n",
       "      <th>0</th>\n",
       "      <td>3</td>\n",
       "      <td>0</td>\n",
       "      <td>NaN</td>\n",
       "      <td>add-k with k=1</td>\n",
       "      <td>NaN</td>\n",
       "      <td>[([[3, 4, 4, 13, 6]], [4, 5, 5, 14, 7]), ([[]]...</td>\n",
       "    </tr>\n",
       "    <tr>\n",
       "      <th>1</th>\n",
       "      <td>3</td>\n",
       "      <td>1</td>\n",
       "      <td>NaN</td>\n",
       "      <td>pow-k with k=2</td>\n",
       "      <td>NaN</td>\n",
       "      <td>[([[0]], [0]), ([[]], []), ([[]], []), ([[3]],...</td>\n",
       "    </tr>\n",
       "    <tr>\n",
       "      <th>2</th>\n",
       "      <td>3</td>\n",
       "      <td>2</td>\n",
       "      <td>127.0</td>\n",
       "      <td>mult-k with k=4</td>\n",
       "      <td>(map (* 4) var0)</td>\n",
       "      <td>[([[3]], [12]), ([[]], []), ([[3, 5, 7, 4, 4, ...</td>\n",
       "    </tr>\n",
       "    <tr>\n",
       "      <th>3</th>\n",
       "      <td>3</td>\n",
       "      <td>3</td>\n",
       "      <td>2.0</td>\n",
       "      <td>append-k with k=0</td>\n",
       "      <td>(append (length empty) var0)</td>\n",
       "      <td>[([[0, 14]], [0, 14, 0]), ([[4, 0]], [4, 0, 0]...</td>\n",
       "    </tr>\n",
       "    <tr>\n",
       "      <th>4</th>\n",
       "      <td>3</td>\n",
       "      <td>4</td>\n",
       "      <td>413.0</td>\n",
       "      <td>modulo-k with k=2</td>\n",
       "      <td>(map (mod 2) var0)</td>\n",
       "      <td>[([[7, 0, 3, 12, 12]], [1, 0, 1, 0, 0]), ([[5,...</td>\n",
       "    </tr>\n",
       "  </tbody>\n",
       "</table>\n",
       "</div>"
      ],
      "text/plain": [
       "   Depth  Epoch  Steps          Task Name                       Program  \\\n",
       "0      3      0    NaN     add-k with k=1                           NaN   \n",
       "1      3      1    NaN     pow-k with k=2                           NaN   \n",
       "2      3      2  127.0    mult-k with k=4              (map (* 4) var0)   \n",
       "3      3      3    2.0  append-k with k=0  (append (length empty) var0)   \n",
       "4      3      4  413.0  modulo-k with k=2            (map (mod 2) var0)   \n",
       "\n",
       "                                            Examples  \n",
       "0  [([[3, 4, 4, 13, 6]], [4, 5, 5, 14, 7]), ([[]]...  \n",
       "1  [([[0]], [0]), ([[]], []), ([[]], []), ([[3]],...  \n",
       "2  [([[3]], [12]), ([[]], []), ([[3, 5, 7, 4, 4, ...  \n",
       "3  [([[0, 14]], [0, 14, 0]), ([[4, 0]], [4, 0, 0]...  \n",
       "4  [([[7, 0, 3, 12, 12]], [1, 0, 1, 0, 0]), ([[5,...  "
      ]
     },
     "execution_count": 4,
     "metadata": {},
     "output_type": "execute_result"
    }
   ],
   "source": [
    "import pandas as pd\n",
    "\n",
    "# Reading the first few rows of the CSV file\n",
    "df = pd.read_csv('/Users/ron/Code/master_thesis/results/stats_2023-09-06 01:17:27.261880.csv')\n",
    "df.head()\n"
   ]
  },
  {
   "cell_type": "code",
   "execution_count": 8,
   "metadata": {},
   "outputs": [
    {
     "ename": "TypeError",
     "evalue": "'int' object is not callable",
     "output_type": "error",
     "traceback": [
      "\u001B[0;31m---------------------------------------------------------------------------\u001B[0m",
      "\u001B[0;31mTypeError\u001B[0m                                 Traceback (most recent call last)",
      "\u001B[1;32m/Users/ron/Code/master_thesis/src/analysis.ipynb Cell 2\u001B[0m in \u001B[0;36m<module>\u001B[0;34m\u001B[0m\n\u001B[1;32m      <a href='vscode-notebook-cell:/Users/ron/Code/master_thesis/src/analysis.ipynb#W1sZmlsZQ%3D%3D?line=0'>1</a>\u001B[0m \u001B[39m# Count the number of non-NaN values in the 'Program' column for each depth\u001B[39;00m\n\u001B[1;32m      <a href='vscode-notebook-cell:/Users/ron/Code/master_thesis/src/analysis.ipynb#W1sZmlsZQ%3D%3D?line=1'>2</a>\u001B[0m solved_programs_per_depth \u001B[39m=\u001B[39m df[df[\u001B[39m'\u001B[39m\u001B[39mProgram\u001B[39m\u001B[39m'\u001B[39m]\u001B[39m.\u001B[39mnotna()]\u001B[39m.\u001B[39mgroupby(\u001B[39m'\u001B[39m\u001B[39mDepth\u001B[39m\u001B[39m'\u001B[39m)\u001B[39m.\u001B[39msize()\n\u001B[0;32m----> <a href='vscode-notebook-cell:/Users/ron/Code/master_thesis/src/analysis.ipynb#W1sZmlsZQ%3D%3D?line=2'>3</a>\u001B[0m programs_per_depth \u001B[39m=\u001B[39m df[\u001B[39m'\u001B[39;49m\u001B[39mProgram\u001B[39;49m\u001B[39m'\u001B[39;49m]\u001B[39m.\u001B[39;49msize()\n\u001B[1;32m      <a href='vscode-notebook-cell:/Users/ron/Code/master_thesis/src/analysis.ipynb#W1sZmlsZQ%3D%3D?line=4'>5</a>\u001B[0m \u001B[39mprint\u001B[39m(solved_programs_per_depth)\n\u001B[1;32m      <a href='vscode-notebook-cell:/Users/ron/Code/master_thesis/src/analysis.ipynb#W1sZmlsZQ%3D%3D?line=5'>6</a>\u001B[0m \u001B[39mprint\u001B[39m(programs_per_depth)\n",
      "\u001B[0;31mTypeError\u001B[0m: 'int' object is not callable"
     ]
    }
   ],
   "source": [
    "# Count the number of non-NaN values in the 'Program' column for each depth\n",
    "solved_programs_per_depth = df[df['Program'].notna()].groupby('Depth').size()\n",
    "programs_per_depth =\n",
    "\n",
    "print(solved_programs_per_depth)\n",
    "print(programs_per_depth)\n"
   ]
  }
 ],
 "metadata": {
  "kernelspec": {
   "display_name": "Python 3",
   "language": "python",
   "name": "python3"
  },
  "language_info": {
   "codemirror_mode": {
    "name": "ipython",
    "version": 3
   },
   "file_extension": ".py",
   "mimetype": "text/x-python",
   "name": "python",
   "nbconvert_exporter": "python",
   "pygments_lexer": "ipython3",
   "version": "3.9.7"
  }
 },
 "nbformat": 4,
 "nbformat_minor": 0
}
